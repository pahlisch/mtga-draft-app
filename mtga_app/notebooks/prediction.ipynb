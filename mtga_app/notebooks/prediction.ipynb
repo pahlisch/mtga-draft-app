{
 "cells": [
  {
   "cell_type": "code",
   "execution_count": 31,
   "metadata": {},
   "outputs": [],
   "source": [
    "import pandas as pd\n",
    "import numpy as np\n",
    "import sqlalchemy as sql\n",
    "from dotenv import load_dotenv\n",
    "import os\n",
    "import re"
   ]
  },
  {
   "cell_type": "code",
   "execution_count": 3,
   "metadata": {},
   "outputs": [],
   "source": [
    "load_dotenv()\n",
    "user = os.getenv('DB_USERNAME')\n",
    "db = os.getenv('DB')\n",
    "host = os.getenv('DB_HOST')\n",
    "password = os.getenv('DB_PASSWORD')\n",
    "\n",
    "connection_string = f\"mysql+pymysql://{user}:{password}@{host}/{db}?charset=utf8mb4\"\n",
    "engine = sql.create_engine(connection_string)\n"
   ]
  },
  {
   "cell_type": "code",
   "execution_count": 8,
   "metadata": {},
   "outputs": [],
   "source": [
    "pd.set_option(\"display.max_columns\", None)"
   ]
  },
  {
   "cell_type": "code",
   "execution_count": null,
   "metadata": {},
   "outputs": [],
   "source": [
    "#one-hot encode cmc; colors; keywords; produced_mana; \n",
    "#average cost per power in set, trade in set, kill in set\n",
    "#extract type;\n",
    "#add trade\n",
    "#process text (token; replace card name; number of words/char; TF-IDF)\n",
    "#try to process creature type\n",
    "#destroy permanent, target sacrifice, life gain, deal damage, loose, draw card (bool or number)"
   ]
  },
  {
   "cell_type": "code",
   "execution_count": 12,
   "metadata": {},
   "outputs": [],
   "source": [
    "query = \"\"\"SELECT d.name, scryfall_id, oracle_text, cmc, colors, keywords, type_line, set_name, `set`, d.rarity, `power`, toughness, produced_mana, loyalty, avg_pick FROM scryfall_cards s\n",
    "INNER JOIN draft_data d ON d.scryfall_id = s.id\n",
    "WHERE drat_format = 'PremierDraft';\n",
    "\"\"\""
   ]
  },
  {
   "cell_type": "code",
   "execution_count": 61,
   "metadata": {},
   "outputs": [],
   "source": [
    "with engine.connect() as conn:\n",
    "    df = pd.read_sql_query(query, conn)"
   ]
  },
  {
   "cell_type": "code",
   "execution_count": 62,
   "metadata": {},
   "outputs": [
    {
     "name": "stdout",
     "output_type": "stream",
     "text": [
      "<class 'pandas.core.frame.DataFrame'>\n",
      "RangeIndex: 5714 entries, 0 to 5713\n",
      "Data columns (total 14 columns):\n",
      " #   Column         Non-Null Count  Dtype  \n",
      "---  ------         --------------  -----  \n",
      " 0   scryfall_id    5714 non-null   object \n",
      " 1   oracle_text    5714 non-null   object \n",
      " 2   cmc            5714 non-null   object \n",
      " 3   colors         5714 non-null   object \n",
      " 4   keywords       5714 non-null   object \n",
      " 5   type_line      5714 non-null   object \n",
      " 6   set_name       5714 non-null   object \n",
      " 7   set            5714 non-null   object \n",
      " 8   rarity         5714 non-null   object \n",
      " 9   power          5714 non-null   object \n",
      " 10  toughness      5714 non-null   object \n",
      " 11  produced_mana  5714 non-null   object \n",
      " 12  loyalty        5714 non-null   object \n",
      " 13  avg_pick       5714 non-null   float64\n",
      "dtypes: float64(1), object(13)\n",
      "memory usage: 625.1+ KB\n"
     ]
    }
   ],
   "source": [
    "df.info()"
   ]
  },
  {
   "cell_type": "code",
   "execution_count": 63,
   "metadata": {},
   "outputs": [
    {
     "data": {
      "text/plain": [
       "0    Legendary Creature — Human Rogue\n",
       "1         Creature — Phyrexian Cleric\n",
       "2                  Artifact — Vehicle\n",
       "3               Creature — Orc Knight\n",
       "4                 Artifact — Treasure\n",
       "5           Creature — Human Elf Monk\n",
       "6      Legendary Creature — Rat Pilot\n",
       "7                             Sorcery\n",
       "8     Legendary Creature — Frog Beast\n",
       "9                         Enchantment\n",
       "Name: type_line, dtype: object"
      ]
     },
     "execution_count": 63,
     "metadata": {},
     "output_type": "execute_result"
    }
   ],
   "source": [
    "df[\"type_line\"].head(10)"
   ]
  },
  {
   "cell_type": "code",
   "execution_count": 64,
   "metadata": {},
   "outputs": [],
   "source": [
    "df[\"card_type\"] = df[\"type_line\"].apply(lambda x: x.split(\" — \")[0])"
   ]
  },
  {
   "cell_type": "code",
   "execution_count": 65,
   "metadata": {},
   "outputs": [
    {
     "data": {
      "text/plain": [
       "0    Legendary Creature\n",
       "1              Creature\n",
       "2              Artifact\n",
       "3              Creature\n",
       "4              Artifact\n",
       "5              Creature\n",
       "6    Legendary Creature\n",
       "7               Sorcery\n",
       "8    Legendary Creature\n",
       "9           Enchantment\n",
       "Name: card_type, dtype: object"
      ]
     },
     "execution_count": 65,
     "metadata": {},
     "output_type": "execute_result"
    }
   ],
   "source": [
    "df[\"card_type\"].head(10)"
   ]
  },
  {
   "cell_type": "code",
   "execution_count": 80,
   "metadata": {},
   "outputs": [],
   "source": [
    "df[\"Legenday\"] = df[\"card_type\"].apply(lambda x: \"Legendary\" in x)"
   ]
  },
  {
   "cell_type": "code",
   "execution_count": 81,
   "metadata": {},
   "outputs": [],
   "source": [
    "df[\"card_type\"] = df[\"card_type\"].apply(lambda x: x.split(\" \")[1] if \"Legendary\" in x else x)"
   ]
  },
  {
   "cell_type": "code",
   "execution_count": 66,
   "metadata": {},
   "outputs": [],
   "source": [
    "df[\"power_*\"] = df[\"power\"].apply(lambda x: \"*\" in x)"
   ]
  },
  {
   "cell_type": "code",
   "execution_count": 67,
   "metadata": {},
   "outputs": [],
   "source": [
    "df[\"toughness_*\"] = df[\"toughness\"].apply(lambda x: \"*\" in x)"
   ]
  },
  {
   "cell_type": "code",
   "execution_count": 68,
   "metadata": {},
   "outputs": [
    {
     "data": {
      "text/html": [
       "<div>\n",
       "<style scoped>\n",
       "    .dataframe tbody tr th:only-of-type {\n",
       "        vertical-align: middle;\n",
       "    }\n",
       "\n",
       "    .dataframe tbody tr th {\n",
       "        vertical-align: top;\n",
       "    }\n",
       "\n",
       "    .dataframe thead th {\n",
       "        text-align: right;\n",
       "    }\n",
       "</style>\n",
       "<table border=\"1\" class=\"dataframe\">\n",
       "  <thead>\n",
       "    <tr style=\"text-align: right;\">\n",
       "      <th></th>\n",
       "      <th>power_*</th>\n",
       "      <th>toughness_*</th>\n",
       "    </tr>\n",
       "  </thead>\n",
       "  <tbody>\n",
       "    <tr>\n",
       "      <th>0</th>\n",
       "      <td>False</td>\n",
       "      <td>False</td>\n",
       "    </tr>\n",
       "    <tr>\n",
       "      <th>1</th>\n",
       "      <td>False</td>\n",
       "      <td>False</td>\n",
       "    </tr>\n",
       "    <tr>\n",
       "      <th>2</th>\n",
       "      <td>False</td>\n",
       "      <td>False</td>\n",
       "    </tr>\n",
       "    <tr>\n",
       "      <th>3</th>\n",
       "      <td>False</td>\n",
       "      <td>False</td>\n",
       "    </tr>\n",
       "    <tr>\n",
       "      <th>4</th>\n",
       "      <td>False</td>\n",
       "      <td>False</td>\n",
       "    </tr>\n",
       "    <tr>\n",
       "      <th>5</th>\n",
       "      <td>False</td>\n",
       "      <td>False</td>\n",
       "    </tr>\n",
       "    <tr>\n",
       "      <th>6</th>\n",
       "      <td>False</td>\n",
       "      <td>False</td>\n",
       "    </tr>\n",
       "    <tr>\n",
       "      <th>7</th>\n",
       "      <td>False</td>\n",
       "      <td>False</td>\n",
       "    </tr>\n",
       "    <tr>\n",
       "      <th>8</th>\n",
       "      <td>True</td>\n",
       "      <td>False</td>\n",
       "    </tr>\n",
       "    <tr>\n",
       "      <th>9</th>\n",
       "      <td>False</td>\n",
       "      <td>False</td>\n",
       "    </tr>\n",
       "  </tbody>\n",
       "</table>\n",
       "</div>"
      ],
      "text/plain": [
       "   power_*  toughness_*\n",
       "0    False        False\n",
       "1    False        False\n",
       "2    False        False\n",
       "3    False        False\n",
       "4    False        False\n",
       "5    False        False\n",
       "6    False        False\n",
       "7    False        False\n",
       "8     True        False\n",
       "9    False        False"
      ]
     },
     "execution_count": 68,
     "metadata": {},
     "output_type": "execute_result"
    }
   ],
   "source": [
    "df[[\"power_*\", \"toughness_*\"]].head(10)"
   ]
  },
  {
   "cell_type": "code",
   "execution_count": 69,
   "metadata": {},
   "outputs": [],
   "source": [
    "def convert_power_tough(x):\n",
    "    pattern = re.compile(r\"\\d+\")\n",
    "    if \"*\" in x:\n",
    "        match = re.findall(pattern, x)\n",
    "        if match == []:\n",
    "            return int(0)\n",
    "        else:\n",
    "            return int(match[0])\n",
    "    else:\n",
    "        return int(x)"
   ]
  },
  {
   "cell_type": "code",
   "execution_count": 70,
   "metadata": {},
   "outputs": [
    {
     "data": {
      "text/plain": [
       "12"
      ]
     },
     "execution_count": 70,
     "metadata": {},
     "output_type": "execute_result"
    }
   ],
   "source": [
    "convert_power_tough(\"12\")"
   ]
  },
  {
   "cell_type": "code",
   "execution_count": 71,
   "metadata": {},
   "outputs": [],
   "source": [
    "df[\"power\"] = df[\"power\"].apply(convert_power_tough)"
   ]
  },
  {
   "cell_type": "code",
   "execution_count": 72,
   "metadata": {},
   "outputs": [],
   "source": [
    "df[\"toughness\"] = df[\"toughness\"].apply(convert_power_tough)"
   ]
  },
  {
   "cell_type": "code",
   "execution_count": 73,
   "metadata": {},
   "outputs": [
    {
     "data": {
      "text/plain": [
       "0    3\n",
       "1    4\n",
       "2    4\n",
       "3    4\n",
       "4    0\n",
       "5    1\n",
       "6    4\n",
       "7    0\n",
       "8    0\n",
       "9    0\n",
       "Name: power, dtype: int64"
      ]
     },
     "execution_count": 73,
     "metadata": {},
     "output_type": "execute_result"
    }
   ],
   "source": [
    "df[\"power\"].head(10)"
   ]
  },
  {
   "cell_type": "code",
   "execution_count": 77,
   "metadata": {},
   "outputs": [],
   "source": [
    "df[\"power_toughness\"] = df[\"power\"] + df[\"toughness\"]"
   ]
  },
  {
   "cell_type": "code",
   "execution_count": 78,
   "metadata": {},
   "outputs": [
    {
     "data": {
      "text/plain": [
       "0    4\n",
       "1    8\n",
       "2    7\n",
       "3    8\n",
       "4    0\n",
       "5    5\n",
       "6    7\n",
       "7    0\n",
       "8    5\n",
       "9    0\n",
       "Name: power_toughness, dtype: int64"
      ]
     },
     "execution_count": 78,
     "metadata": {},
     "output_type": "execute_result"
    }
   ],
   "source": [
    "df[\"power_toughness\"].head(10)"
   ]
  },
  {
   "cell_type": "code",
   "execution_count": 85,
   "metadata": {},
   "outputs": [],
   "source": [
    "df[\"cmc\"] = df[\"cmc\"].apply(float)"
   ]
  },
  {
   "cell_type": "code",
   "execution_count": 99,
   "metadata": {},
   "outputs": [],
   "source": [
    "creature_df = df[df[\"card_type\"] == \"Creature\"]\n",
    "\n",
    "\n",
    "grouped_sum = creature_df.groupby(\"set\").agg({\"power_toughness\": \"sum\", \"cmc\": \"sum\"})\n",
    "\n",
    "\n",
    "average_stat_cost = grouped_sum[\"cmc\"] / grouped_sum[\"power_toughness\"]\n",
    "\n",
    "\n",
    "df = df.merge(average_stat_cost.rename(\"average_stat_cost\"), how=\"left\", on=\"set\")"
   ]
  },
  {
   "cell_type": "code",
   "execution_count": 100,
   "metadata": {},
   "outputs": [],
   "source": [
    "df[\"card_average_stat_cost\"] = df[\"cmc\"] / df[\"power_toughness\"]"
   ]
  },
  {
   "cell_type": "code",
   "execution_count": 106,
   "metadata": {},
   "outputs": [],
   "source": [
    "#highly dubious\n",
    "df[\"card_average_stat_cost\"] = df[\"card_average_stat_cost\"].apply(lambda x: 1 if x > 100 else x)"
   ]
  },
  {
   "cell_type": "code",
   "execution_count": 107,
   "metadata": {},
   "outputs": [
    {
     "data": {
      "text/html": [
       "<div>\n",
       "<style scoped>\n",
       "    .dataframe tbody tr th:only-of-type {\n",
       "        vertical-align: middle;\n",
       "    }\n",
       "\n",
       "    .dataframe tbody tr th {\n",
       "        vertical-align: top;\n",
       "    }\n",
       "\n",
       "    .dataframe thead th {\n",
       "        text-align: right;\n",
       "    }\n",
       "</style>\n",
       "<table border=\"1\" class=\"dataframe\">\n",
       "  <thead>\n",
       "    <tr style=\"text-align: right;\">\n",
       "      <th></th>\n",
       "      <th>scryfall_id</th>\n",
       "      <th>set</th>\n",
       "      <th>average_stat_cost</th>\n",
       "      <th>card_average_stat_cost</th>\n",
       "    </tr>\n",
       "  </thead>\n",
       "  <tbody>\n",
       "    <tr>\n",
       "      <th>0</th>\n",
       "      <td>f01f12e0-f354-43aa-9e2d-b59a99571a5f</td>\n",
       "      <td>SNC</td>\n",
       "      <td>0.629010</td>\n",
       "      <td>0.750000</td>\n",
       "    </tr>\n",
       "    <tr>\n",
       "      <th>1</th>\n",
       "      <td>626c46a3-72b8-4e04-adf2-c9c7aaf94f04</td>\n",
       "      <td>ONE</td>\n",
       "      <td>0.566906</td>\n",
       "      <td>0.625000</td>\n",
       "    </tr>\n",
       "    <tr>\n",
       "      <th>2</th>\n",
       "      <td>28273a5b-57b3-4b7a-b017-5886c171c9c9</td>\n",
       "      <td>NEO</td>\n",
       "      <td>0.578534</td>\n",
       "      <td>0.428571</td>\n",
       "    </tr>\n",
       "    <tr>\n",
       "      <th>3</th>\n",
       "      <td>3620ed96-1d15-4942-b9e5-9f9a64b0cab4</td>\n",
       "      <td>AFR</td>\n",
       "      <td>0.598179</td>\n",
       "      <td>0.625000</td>\n",
       "    </tr>\n",
       "    <tr>\n",
       "      <th>4</th>\n",
       "      <td>2f375674-7ae2-4430-b1f3-c26fa5b201d1</td>\n",
       "      <td>SNC</td>\n",
       "      <td>0.629010</td>\n",
       "      <td>1.000000</td>\n",
       "    </tr>\n",
       "    <tr>\n",
       "      <th>...</th>\n",
       "      <td>...</td>\n",
       "      <td>...</td>\n",
       "      <td>...</td>\n",
       "      <td>...</td>\n",
       "    </tr>\n",
       "    <tr>\n",
       "      <th>5709</th>\n",
       "      <td>e8815cd9-7032-445a-aebc-cfc19bd51ee4</td>\n",
       "      <td>DOM</td>\n",
       "      <td>0.610132</td>\n",
       "      <td>0.600000</td>\n",
       "    </tr>\n",
       "    <tr>\n",
       "      <th>5710</th>\n",
       "      <td>519c5660-4daf-4404-b808-66d1c840ab70</td>\n",
       "      <td>XLN</td>\n",
       "      <td>0.651203</td>\n",
       "      <td>1.000000</td>\n",
       "    </tr>\n",
       "    <tr>\n",
       "      <th>5711</th>\n",
       "      <td>e3979b88-ac58-420a-8c03-37ea5d93d0f1</td>\n",
       "      <td>XLN</td>\n",
       "      <td>0.651203</td>\n",
       "      <td>1.000000</td>\n",
       "    </tr>\n",
       "    <tr>\n",
       "      <th>5712</th>\n",
       "      <td>b3815ab6-87cd-4310-8068-ec721ee10a24</td>\n",
       "      <td>RNA</td>\n",
       "      <td>0.634146</td>\n",
       "      <td>0.500000</td>\n",
       "    </tr>\n",
       "    <tr>\n",
       "      <th>5713</th>\n",
       "      <td>f6b3dd8f-902e-45b8-a422-370705621294</td>\n",
       "      <td>XLN</td>\n",
       "      <td>0.651203</td>\n",
       "      <td>1.000000</td>\n",
       "    </tr>\n",
       "  </tbody>\n",
       "</table>\n",
       "<p>5714 rows × 4 columns</p>\n",
       "</div>"
      ],
      "text/plain": [
       "                               scryfall_id  set  average_stat_cost  \\\n",
       "0     f01f12e0-f354-43aa-9e2d-b59a99571a5f  SNC           0.629010   \n",
       "1     626c46a3-72b8-4e04-adf2-c9c7aaf94f04  ONE           0.566906   \n",
       "2     28273a5b-57b3-4b7a-b017-5886c171c9c9  NEO           0.578534   \n",
       "3     3620ed96-1d15-4942-b9e5-9f9a64b0cab4  AFR           0.598179   \n",
       "4     2f375674-7ae2-4430-b1f3-c26fa5b201d1  SNC           0.629010   \n",
       "...                                    ...  ...                ...   \n",
       "5709  e8815cd9-7032-445a-aebc-cfc19bd51ee4  DOM           0.610132   \n",
       "5710  519c5660-4daf-4404-b808-66d1c840ab70  XLN           0.651203   \n",
       "5711  e3979b88-ac58-420a-8c03-37ea5d93d0f1  XLN           0.651203   \n",
       "5712  b3815ab6-87cd-4310-8068-ec721ee10a24  RNA           0.634146   \n",
       "5713  f6b3dd8f-902e-45b8-a422-370705621294  XLN           0.651203   \n",
       "\n",
       "      card_average_stat_cost  \n",
       "0                   0.750000  \n",
       "1                   0.625000  \n",
       "2                   0.428571  \n",
       "3                   0.625000  \n",
       "4                   1.000000  \n",
       "...                      ...  \n",
       "5709                0.600000  \n",
       "5710                1.000000  \n",
       "5711                1.000000  \n",
       "5712                0.500000  \n",
       "5713                1.000000  \n",
       "\n",
       "[5714 rows x 4 columns]"
      ]
     },
     "execution_count": 107,
     "metadata": {},
     "output_type": "execute_result"
    }
   ],
   "source": [
    "df[[\"scryfall_id\", \"set\", \"average_stat_cost\", \"card_average_stat_cost\"]]"
   ]
  },
  {
   "cell_type": "code",
   "execution_count": null,
   "metadata": {},
   "outputs": [],
   "source": []
  }
 ],
 "metadata": {
  "kernelspec": {
   "display_name": "mtga",
   "language": "python",
   "name": "python3"
  },
  "language_info": {
   "codemirror_mode": {
    "name": "ipython",
    "version": 3
   },
   "file_extension": ".py",
   "mimetype": "text/x-python",
   "name": "python",
   "nbconvert_exporter": "python",
   "pygments_lexer": "ipython3",
   "version": "3.8.16"
  },
  "orig_nbformat": 4
 },
 "nbformat": 4,
 "nbformat_minor": 2
}
